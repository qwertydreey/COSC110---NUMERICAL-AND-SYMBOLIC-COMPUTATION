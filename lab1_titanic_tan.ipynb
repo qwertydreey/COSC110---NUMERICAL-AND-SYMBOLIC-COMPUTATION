{
  "nbformat": 4,
  "nbformat_minor": 0,
  "metadata": {
    "colab": {
      "provenance": []
    },
    "kernelspec": {
      "name": "python3",
      "display_name": "Python 3"
    },
    "language_info": {
      "name": "python"
    }
  },
  "cells": [
    {
      "cell_type": "markdown",
      "source": [
        "## UPLOAD FILE\n"
      ],
      "metadata": {
        "id": "eBevKaITgWxJ"
      }
    },
    {
      "cell_type": "code",
      "source": [
        "from google.colab import files\n",
        "import os\n",
        "import matplotlib.pyplot as plt\n",
        "\n",
        "# Upload the file\n",
        "print(\"Please upload your file:\")\n",
        "uploaded = files.upload()\n",
        "\n",
        "# Display the current working directory\n",
        "print(\"\\nCurrent Working Directory:\", os.getcwd())\n"
      ],
      "metadata": {
        "id": "EW92SHVQgedJ"
      },
      "execution_count": null,
      "outputs": []
    },
    {
      "cell_type": "markdown",
      "source": [
        "## Question 1: Determine the blank values in the data"
      ],
      "metadata": {
        "id": "uDrtgBxILCtV"
      }
    },
    {
      "cell_type": "code",
      "source": [
        "import os\n",
        "import pandas as pd\n",
        "from tabulate import tabulate\n",
        "\n",
        "# File name\n",
        "file_name = \"titanic.csv\"\n",
        "\n",
        "# Check if the file exists in the current working directory\n",
        "if file_name in os.listdir():\n",
        "\n",
        "    # Load dataset\n",
        "    df = pd.read_csv(file_name)\n",
        "\n",
        "    # Display the first few rows in a formatted table\n",
        "    print(tabulate(df.head(), headers=\"keys\", tablefmt=\"fancy_grid\"))\n",
        "\n",
        "\n",
        "\n"
      ],
      "metadata": {
        "colab": {
          "base_uri": "https://localhost:8080/"
        },
        "id": "wTS_iUmJeXam",
        "outputId": "a6cfc834-8590-49e4-faca-315b08008228"
      },
      "execution_count": null,
      "outputs": [
        {
          "output_type": "stream",
          "name": "stdout",
          "text": [
            "╒════╤═══════════════╤════════════╤══════════╤═════════════════════════════════════════════════════╤════════╤═══════╤═════════╤═════════╤══════════════════╤═════════╤═════════╤════════════╕\n",
            "│    │   PassengerId │   Survived │   Pclass │ Name                                                │ Sex    │   Age │   SibSp │   Parch │ Ticket           │    Fare │ Cabin   │ Embarked   │\n",
            "╞════╪═══════════════╪════════════╪══════════╪═════════════════════════════════════════════════════╪════════╪═══════╪═════════╪═════════╪══════════════════╪═════════╪═════════╪════════════╡\n",
            "│  0 │             1 │          0 │        3 │ Braund, Mr. Owen Harris                             │ male   │    22 │       1 │       0 │ A/5 21171        │  7.25   │ nan     │ S          │\n",
            "├────┼───────────────┼────────────┼──────────┼─────────────────────────────────────────────────────┼────────┼───────┼─────────┼─────────┼──────────────────┼─────────┼─────────┼────────────┤\n",
            "│  1 │             2 │          1 │        1 │ Cumings, Mrs. John Bradley (Florence Briggs Thayer) │ female │    38 │       1 │       0 │ PC 17599         │ 71.2833 │ C85     │ C          │\n",
            "├────┼───────────────┼────────────┼──────────┼─────────────────────────────────────────────────────┼────────┼───────┼─────────┼─────────┼──────────────────┼─────────┼─────────┼────────────┤\n",
            "│  2 │             3 │          1 │        3 │ Heikkinen, Miss. Laina                              │ female │    26 │       0 │       0 │ STON/O2. 3101282 │  7.925  │ nan     │ S          │\n",
            "├────┼───────────────┼────────────┼──────────┼─────────────────────────────────────────────────────┼────────┼───────┼─────────┼─────────┼──────────────────┼─────────┼─────────┼────────────┤\n",
            "│  3 │             4 │          1 │        1 │ Futrelle, Mrs. Jacques Heath (Lily May Peel)        │ female │    35 │       1 │       0 │ 113803           │ 53.1    │ C123    │ S          │\n",
            "├────┼───────────────┼────────────┼──────────┼─────────────────────────────────────────────────────┼────────┼───────┼─────────┼─────────┼──────────────────┼─────────┼─────────┼────────────┤\n",
            "│  4 │             5 │          0 │        3 │ Allen, Mr. William Henry                            │ male   │    35 │       0 │       0 │ 373450           │  8.05   │ nan     │ S          │\n",
            "╘════╧═══════════════╧════════════╧══════════╧═════════════════════════════════════════════════════╧════════╧═══════╧═════════╧═════════╧══════════════════╧═════════╧═════════╧════════════╛\n"
          ]
        }
      ]
    },
    {
      "cell_type": "markdown",
      "source": [
        "## Question 2: Determine the task for loading of handling the data"
      ],
      "metadata": {
        "id": "l8jsHO8LLIxW"
      }
    },
    {
      "cell_type": "code",
      "source": [
        "from tabulate import tabulate\n",
        "import io\n",
        "\n",
        "# Capture dataset info as a string\n",
        "buffer = io.StringIO()\n",
        "df.info(buf=buffer)\n",
        "dataset_info = buffer.getvalue()\n",
        "\n",
        "# Convert dataset info into a structured table format\n",
        "dataset_info_lines = dataset_info.split(\"\\n\")\n",
        "dataset_info_table = [line.split(\":\") for line in dataset_info_lines if \":\" in line]\n",
        "\n",
        "# Display dataset overview in a formatted table\n",
        "print(\"\\n📊 DATASET OVERVIEW:\\n\")\n",
        "if dataset_info_table:\n",
        "    print(tabulate(dataset_info_table, tablefmt=\"fancy_grid\"))\n",
        "else:\n",
        "    print(\"No detailed dataset info available.\")\n",
        "\n",
        "# Capture dataset info as a string\n",
        "buffer = io.StringIO()\n",
        "df.info(buf=buffer)\n",
        "dataset_info = buffer.getvalue()\n",
        "\n",
        "# Convert summary statistics to a table format\n",
        "summary_stats = df.describe().reset_index()\n",
        "\n",
        "# Check for missing values and filter only columns with missing data\n",
        "missing_values = df.isnull().sum()\n",
        "missing_values = missing_values[missing_values > 0].reset_index()\n",
        "missing_values.columns = [\"Column\", \"Missing Values\"]\n",
        "\n",
        "# Display dataset summary statistics in a formatted table\n",
        "print(\"\\n📈 STATISTICAL SUMMARY:\\n\")\n",
        "print(tabulate(summary_stats, headers=\"keys\", tablefmt=\"fancy_grid\"))\n",
        "\n",
        "# Display missing values in a formatted table (same style as the summary table)\n",
        "if not missing_values.empty:\n",
        "    print(\"\\n🚨 MISSING VALUES PER COLUMN:\\n\")\n",
        "    print(tabulate(missing_values, headers=\"keys\", tablefmt=\"fancy_grid\"))\n"
      ],
      "metadata": {
        "colab": {
          "base_uri": "https://localhost:8080/"
        },
        "id": "WW_qf-jheXBP",
        "outputId": "8cd01695-87da-4fd8-80d4-c59ce03d533a"
      },
      "execution_count": null,
      "outputs": [
        {
          "output_type": "stream",
          "name": "stdout",
          "text": [
            "\n",
            "📊 DATASET OVERVIEW:\n",
            "\n",
            "╒═════════════════════════════════╤═════════════════════════════════╕\n",
            "│ RangeIndex                      │ 891 entries, 0 to 890           │\n",
            "├─────────────────────────────────┼─────────────────────────────────┤\n",
            "│ Data columns (total 12 columns) │                                 │\n",
            "├─────────────────────────────────┼─────────────────────────────────┤\n",
            "│ dtypes                          │ float64(2), int64(5), object(5) │\n",
            "├─────────────────────────────────┼─────────────────────────────────┤\n",
            "│ memory usage                    │ 83.7+ KB                        │\n",
            "╘═════════════════════════════════╧═════════════════════════════════╛\n",
            "\n",
            "📈 STATISTICAL SUMMARY:\n",
            "\n",
            "╒════╤═════════╤═══════════════╤════════════╤════════════╤══════════╤════════════╤════════════╤══════════╕\n",
            "│    │ index   │   PassengerId │   Survived │     Pclass │      Age │      SibSp │      Parch │     Fare │\n",
            "╞════╪═════════╪═══════════════╪════════════╪════════════╪══════════╪════════════╪════════════╪══════════╡\n",
            "│  0 │ count   │       891     │ 891        │ 891        │ 714      │ 891        │ 891        │ 891      │\n",
            "├────┼─────────┼───────────────┼────────────┼────────────┼──────────┼────────────┼────────────┼──────────┤\n",
            "│  1 │ mean    │       446     │   0.383838 │   2.30864  │  29.6991 │   0.523008 │   0.381594 │  32.2042 │\n",
            "├────┼─────────┼───────────────┼────────────┼────────────┼──────────┼────────────┼────────────┼──────────┤\n",
            "│  2 │ std     │       257.354 │   0.486592 │   0.836071 │  14.5265 │   1.10274  │   0.806057 │  49.6934 │\n",
            "├────┼─────────┼───────────────┼────────────┼────────────┼──────────┼────────────┼────────────┼──────────┤\n",
            "│  3 │ min     │         1     │   0        │   1        │   0.42   │   0        │   0        │   0      │\n",
            "├────┼─────────┼───────────────┼────────────┼────────────┼──────────┼────────────┼────────────┼──────────┤\n",
            "│  4 │ 25%     │       223.5   │   0        │   2        │  20.125  │   0        │   0        │   7.9104 │\n",
            "├────┼─────────┼───────────────┼────────────┼────────────┼──────────┼────────────┼────────────┼──────────┤\n",
            "│  5 │ 50%     │       446     │   0        │   3        │  28      │   0        │   0        │  14.4542 │\n",
            "├────┼─────────┼───────────────┼────────────┼────────────┼──────────┼────────────┼────────────┼──────────┤\n",
            "│  6 │ 75%     │       668.5   │   1        │   3        │  38      │   1        │   0        │  31      │\n",
            "├────┼─────────┼───────────────┼────────────┼────────────┼──────────┼────────────┼────────────┼──────────┤\n",
            "│  7 │ max     │       891     │   1        │   3        │  80      │   8        │   6        │ 512.329  │\n",
            "╘════╧═════════╧═══════════════╧════════════╧════════════╧══════════╧════════════╧════════════╧══════════╛\n",
            "\n",
            "🚨 MISSING VALUES PER COLUMN:\n",
            "\n",
            "╒════╤══════════╤══════════════════╕\n",
            "│    │ Column   │   Missing Values │\n",
            "╞════╪══════════╪══════════════════╡\n",
            "│  0 │ Age      │              177 │\n",
            "├────┼──────────┼──────────────────┤\n",
            "│  1 │ Cabin    │              687 │\n",
            "├────┼──────────┼──────────────────┤\n",
            "│  2 │ Embarked │                2 │\n",
            "╘════╧══════════╧══════════════════╛\n"
          ]
        }
      ]
    },
    {
      "cell_type": "markdown",
      "source": [
        "## Question 3: Determine the Survival Rate"
      ],
      "metadata": {
        "id": "5grrerYXLKKr"
      }
    },
    {
      "cell_type": "code",
      "source": [
        "\n",
        "\n",
        "# Calculate the mean survival rate\n",
        "mean_survival_rate = df[\"Survived\"].mean()\n",
        "\n",
        "# Display the result with formatting\n",
        "print(\"\\n📊 SURVIVAL RATE ANALYSIS\")\n",
        "print(\"──────────────────────────────\")\n",
        "print(f\"✅ Mean Survival Rate: {mean_survival_rate:.2%}\")  # Converts to percentage format\n",
        "print(\"──────────────────────────────\")"
      ],
      "metadata": {
        "colab": {
          "base_uri": "https://localhost:8080/"
        },
        "id": "o3GQF9KMeWcf",
        "outputId": "3e6701a8-5ac6-4c6c-adef-63cef1463325"
      },
      "execution_count": null,
      "outputs": [
        {
          "output_type": "stream",
          "name": "stdout",
          "text": [
            "\n",
            "📊 SURVIVAL RATE ANALYSIS\n",
            "──────────────────────────────\n",
            "✅ Mean Survival Rate: 38.38%\n",
            "──────────────────────────────\n"
          ]
        }
      ]
    },
    {
      "cell_type": "markdown",
      "source": [
        "## Question 4: Determine the Average age of Survivors\n",
        "\n",
        "\n"
      ],
      "metadata": {
        "id": "Hoavb97cLLKX"
      }
    },
    {
      "cell_type": "code",
      "source": [
        "\n",
        "import pandas as pd\n",
        "import matplotlib.pyplot as plt\n",
        "\n",
        "# Define age groups\n",
        "bins = [0, 10, 20, 30, 40, 50, 60, 70, 80]  # Age ranges\n",
        "labels = [\"0-10\", \"11-20\", \"21-30\", \"31-40\", \"41-50\", \"51-60\", \"61-70\", \"71-80\"]\n",
        "\n",
        "# Create a new column for Age Groups\n",
        "df[\"Age Group\"] = pd.cut(df[\"Age\"], bins=bins, labels=labels)\n",
        "\n",
        "# Count the number of survivors and non-survivors in each age group\n",
        "age_survival_counts = df.groupby(\"Age Group\")[\"Survived\"].value_counts().unstack()\n",
        "\n",
        "# Plot the stacked bar chart\n",
        "fig, ax = plt.subplots(figsize=(8, 6))\n",
        "age_survival_counts.plot(kind=\"bar\", stacked=True, color=[\"red\", \"blue\"], ax=ax)\n",
        "\n",
        "# Add labels and title\n",
        "ax.set_xlabel(\"Age Group\")\n",
        "ax.set_ylabel(\"Count\")\n",
        "ax.set_title(\"📊 Survival by Age Group\")\n",
        "\n",
        "# Add grid lines between age groups\n",
        "ax.yaxis.grid(True, linestyle=\"--\", alpha=0.7)  # Dashed grid lines for clarity\n",
        "\n",
        "# Add a legend\n",
        "ax.legend([\"Did Not Survive\", \"Survived\"], loc=\"upper right\")\n",
        "\n",
        "# Show the plot\n",
        "plt.show()\n",
        "# Compute average age of survivors and non-survivors\n",
        "average_age_survivors = df[df[\"Survived\"] == 1][\"Age\"].mean()\n",
        "average_age_non_survivors = df[df[\"Survived\"] == 0][\"Age\"].mean()\n",
        "\n",
        "# Display results with a stylish format\n",
        "print(\"\\n📊 AGE-BASED SURVIVAL ANALYSIS\")\n",
        "print(\"──────────────────────────────────────────\")\n",
        "print(f\"✅ Average Age of Survivors: {average_age_survivors:.2f} years\")\n",
        "print(f\"❌ Average Age of Non-Survivors: {average_age_non_survivors:.2f} years\")\n",
        "print(\"──────────────────────────────────────────\")\n"
      ],
      "metadata": {
        "id": "emHQDkAmLOcG",
        "colab": {
          "base_uri": "https://localhost:8080/",
          "height": 784
        },
        "outputId": "238f8392-fa4d-4ea3-e8d1-df581759b83f"
      },
      "execution_count": null,
      "outputs": [
        {
          "output_type": "stream",
          "name": "stderr",
          "text": [
            "<ipython-input-108-15c5b2595425>:12: FutureWarning: The default of observed=False is deprecated and will be changed to True in a future version of pandas. Pass observed=False to retain current behavior or observed=True to adopt the future default and silence this warning.\n",
            "  age_survival_counts = df.groupby(\"Age Group\")[\"Survived\"].value_counts().unstack()\n",
            "/usr/local/lib/python3.11/dist-packages/IPython/core/pylabtools.py:151: UserWarning: Glyph 128202 (\\N{BAR CHART}) missing from font(s) DejaVu Sans.\n",
            "  fig.canvas.print_figure(bytes_io, **kw)\n"
          ]
        },
        {
          "output_type": "display_data",
          "data": {
            "text/plain": [
              "<Figure size 800x600 with 1 Axes>"
            ],
            "image/png": "[encoded data removed]"
          },
          "metadata": {}
        },
        {
          "output_type": "stream",
          "name": "stdout",
          "text": [
            "\n",
            "📊 AGE-BASED SURVIVAL ANALYSIS\n",
            "──────────────────────────────────────────\n",
            "✅ Average Age of Survivors: 28.34 years\n",
            "❌ Average Age of Non-Survivors: 30.63 years\n",
            "──────────────────────────────────────────\n"
          ]
        }
      ]
    }
  ]
}
